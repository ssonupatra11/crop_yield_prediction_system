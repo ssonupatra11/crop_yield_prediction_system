{
 "cells": [
  {
   "cell_type": "code",
   "execution_count": 19,
   "metadata": {},
   "outputs": [],
   "source": [
    "from tkinter import *\n",
    "import numpy as np\n",
    "import pandas as pd\n",
    "import random\n",
    "from datetime import datetime\n",
    "from sklearn.tree import DecisionTreeRegressor\n",
    "import tkinter.messagebox as m\n",
    "from sklearn.model_selection import train_test_split\n",
    "from tkinter import ttk\n",
    "from sklearn.preprocessing import Imputer"
   ]
  },
  {
   "cell_type": "code",
   "execution_count": 20,
   "metadata": {},
   "outputs": [
    {
     "data": {
      "text/plain": [
       "'3.7.0'"
      ]
     },
     "execution_count": 20,
     "metadata": {},
     "output_type": "execute_result"
    }
   ],
   "source": [
    "import platform\n",
    "platform.python_version()"
   ]
  },
  {
   "cell_type": "code",
   "execution_count": 21,
   "metadata": {},
   "outputs": [],
   "source": [
    "def DecisionTree():\n",
    "    a4=n.get()\n",
    "    dataset = pd.read_csv(a4+\".csv\")\n",
    "    global X,Y,X_train,Y_train\n",
    "    X = dataset.iloc[:, :3].values\n",
    "    Y = dataset.iloc[:, 3].values\n",
    "    #missing values\n",
    "    imputer=Imputer(missing_values='NaN',strategy='mean',axis=0)\n",
    "    imputer=Imputer.fit(X[:,:3])\n",
    "    X[:,:3]=Imputer.transform(X[:,:3])\n",
    "    print(x)\n",
    "    X_train, X_test, Y_train, Y_test = train_test_split(X, Y, test_size=0.1, random_state=0)\n",
    "    a1=float(c1.get())\n",
    "    a2=float(c2.get())\n",
    "    a3=float(c3.get())\n",
    "    global regressor\n",
    "    depth = random.randrange(7,18)\n",
    "    regressor = DecisionTreeRegressor(max_depth=depth)\n",
    "    regressor.fit(X_train,Y_train)\n",
    "    y_pred_tree = regressor.predict(X_test)\n",
    "    val=getPredictedValue([float(a1), a2, a3])\n",
    "    m.showinfo(title=\"Output After Prediction\",message=val)"
   ]
  },
  {
   "cell_type": "code",
   "execution_count": 22,
   "metadata": {},
   "outputs": [],
   "source": [
    "def getPredictedValue(value):\n",
    "        if value[1]>=2019:\n",
    "            fsa = np.array(value).reshape(1, 3)\n",
    "            return regressor.predict(fsa)[0]\n",
    "        else:\n",
    "            c=X[:,0:2]\n",
    "            x=[]\n",
    "            for i in c:\n",
    "                x.append(i.tolist())\n",
    "            fsa = [value[0], value[1]]\n",
    "            ind = 0\n",
    "            for i in range(0,len(x)):\n",
    "                if x[i]==fsa:\n",
    "                    ind=i\n",
    "                    break\n",
    "            return Y[i]"
   ]
  },
  {
   "cell_type": "code",
   "execution_count": 23,
   "metadata": {},
   "outputs": [
    {
     "name": "stderr",
     "output_type": "stream",
     "text": [
      "Exception in Tkinter callback\n",
      "Traceback (most recent call last):\n",
      "  File \"C:\\Users\\hp\\Anaconda3\\lib\\tkinter\\__init__.py\", line 1702, in __call__\n",
      "    return self.func(*args)\n",
      "  File \"<ipython-input-21-ca2174fa880a>\", line 9, in DecisionTree\n",
      "    imputer=Imputer.fit(X[:,:3],Y[:,3])\n",
      "IndexError: too many indices for array\n"
     ]
    }
   ],
   "source": [
    "def RegressorScore():\n",
    "    error_val=regressor.score(X_train,Y_train)\n",
    "    m.showinfo(title=\"RegressorScore\",message=error_val)\n",
    "def reset():\n",
    "    c1.set(\"\")\n",
    "    c2.set(\"\")\n",
    "    c3.set(\"\")\n",
    "    n.set(\"\")\n",
    "w=Tk()\n",
    "c1=StringVar()\n",
    "c2=StringVar()\n",
    "c3=StringVar()\n",
    "n=StringVar() \n",
    "L1=Label(w,bg=\"yellowgreen\",fg=\"white\",width=46,text=\"Crop Yield Prediction System\",font=(\"times new roman\",20,\"bold\"))\n",
    "L2=Label(w,text=\"Check RegressorScore\",font=(\"monospace\",15,\"italic\"))\n",
    "L3=Label(w,bg=\"yellowgreen\",fg=\"white\",width=46,text=\"Enter Input To Predict\",font=(\"times new roman\",20,\"bold\"))\n",
    "L4=Label(w,text=\"Enter Month\",font=(\"monospace\",15,\"italic\"))\n",
    "L5=Label(w,text=\"Enter Year\",font=(\"monospace\",15,\"italic\"))\n",
    "L6=Label(w,text=\"Enter Rainfall in mm\",font=(\"monospace\",15,\"italic\"))\n",
    "E1=Entry(w,width=17,fg=\"black\",bg=\"white\",textvariable=c1,font=(\"monospace\",15,\"italic\"))\n",
    "E2=Entry(w,width=17,fg=\"black\",bg=\"white\",textvariable=c2,font=(\"monospace\",15,\"italic\"))\n",
    "E3=Entry(w,width=17,fg=\"black\",bg=\"white\",textvariable=c3,font=(\"monospace\",15,\"italic\"))\n",
    "B1=Button(w,width=15,bg=\"grey\",fg=\"white\",text=\"RegressorScore\",font=(\"times new roman\",17),command=RegressorScore)\n",
    "B2=Button(w,width=15,bg=\"grey\",fg=\"white\",text=\"Predict Output\",font=(\"times new roman\",17),command=DecisionTree)\n",
    "B3=Button(w,width=15,bg=\"grey\",fg=\"white\",text=\"Reset\",font=(\"times new roman\",17),command=reset)\n",
    "ttk.Label(w, text = \"Choose The Crop Name\",width=46,background = 'yellowgreen', foreground =\"white\",font = (\"Times New Roman\", 20)).grid(row = 7,column = 2)\n",
    "ttk.Label(w, text = \"Select the Crop :\",font = (\"Times New Roman\", 17)).grid(column = 1,row = 8)\n",
    "crop = ttk.Combobox(w, width = 30, textvariable = n)\n",
    "crop['values'] = ('Arhar','Bajra','Barley','Copra','Cotton','Gram','Groundnut','Jowar','Jute','Maize','Masoor','Moong','Niger','Paddy','Ragi','Rape','Safflower','Sesamum','Soyabean','Sugarcane','Sunflower','Urad','Wheat')\n",
    "crop.grid(column = 2, row = 9)\n",
    "crop.current()\n",
    "L1.grid(row=1,column=1,columnspan=3)\n",
    "L2.grid(row=2,column=1)\n",
    "L3.grid(row=3,column=1,columnspan=3)\n",
    "L4.grid(row=4,column=1)\n",
    "L5.grid(row=4,column=2)\n",
    "L6.grid(row=4,column=3)\n",
    "E1.grid(row=5,column=1)\n",
    "E2.grid(row=5,column=2)\n",
    "E3.grid(row=5,column=3)\n",
    "B1.grid(row=2,column=2)\n",
    "B2.grid(row=6,column=1)\n",
    "B3.grid(row=6,column=3)\n",
    "w.mainloop()"
   ]
  },
  {
   "cell_type": "code",
   "execution_count": null,
   "metadata": {},
   "outputs": [],
   "source": []
  }
 ],
 "metadata": {
  "kernelspec": {
   "display_name": "Python 3",
   "language": "python",
   "name": "python3"
  },
  "language_info": {
   "codemirror_mode": {
    "name": "ipython",
    "version": 3
   },
   "file_extension": ".py",
   "mimetype": "text/x-python",
   "name": "python",
   "nbconvert_exporter": "python",
   "pygments_lexer": "ipython3",
   "version": "3.7.0"
  }
 },
 "nbformat": 4,
 "nbformat_minor": 2
}
